{
  "nbformat": 4,
  "nbformat_minor": 0,
  "metadata": {
    "colab": {
      "name": "BA765-Assignment-1.ipynb",
      "provenance": [],
      "collapsed_sections": [],
      "include_colab_link": true
    },
    "kernelspec": {
      "name": "python3",
      "display_name": "Python 3"
    },
    "language_info": {
      "name": "python"
    }
  },
  "cells": [
    {
      "cell_type": "markdown",
      "metadata": {
        "id": "view-in-github",
        "colab_type": "text"
      },
      "source": [
        "<a href=\"https://colab.research.google.com/github/CrystalLiuMenghe/ba765-assignments/blob/main/BA765_Assignment_1.ipynb\" target=\"_parent\"><img src=\"https://colab.research.google.com/assets/colab-badge.svg\" alt=\"Open In Colab\"/></a>"
      ]
    },
    {
      "cell_type": "markdown",
      "metadata": {
        "id": "OFRpRdG3qXxC"
      },
      "source": [
        "# BA765 Assignment 1\n",
        "\n",
        "Please read **carefully**: \n",
        "\n",
        "This notebook has a number of questions for you to complete individually. This is NOT a group assignment. \n",
        "\n",
        "1. Create a new private repository called `ba765-assignments`. Make sure your repository has a README file, and the README file has a few sentences that describes the purpose of this repository. (If you already have a repo with this name, you can use another name but make sure the phrase `ba765-assignments` is in the name!)\n",
        "\n",
        "2. Go to `Settings -> Manage access -> Invite a collaborator` to add me as a collaborator on your project. My github username is `kucukben`.\n",
        "\n",
        "3. BEFORE answering any questions, save this notebook to the repository. As a commit message, write \"assignment question notebook added\".\n",
        "\n",
        "4. Answer the questions below to the best of your abilities. Don't delete the question cells, if needed, add new cells between questions to answer the questions.\n",
        "\n",
        "5. After answering the questions below to the best of your abilities, push this notebook to your repository (whether directly from google colab, or by first downloading it to your local environment and then uploading it to the repository using github desktop). Make sure to add a commit message that explains what you have change in the code briefly, e.g. \"all assignment questions answered\"\n",
        "\n",
        "6. If you want, you can make further updates to the code, or you can save the notebook to repository before you finish all questions. In these cases make sure the commit message is meaningful, e.g. \"first attempt at questions 1 to 5\". At any time when I look at your repository, I should be able to tell the completion stage of the homework for the code that is in the repository.\n",
        "\n",
        "7. Make sure your repository contains the final version of your code.\n",
        "\n",
        "ENJOY!\n"
      ]
    },
    {
      "cell_type": "markdown",
      "metadata": {
        "id": "rKM0l7loxAII"
      },
      "source": [
        "##A. Numeric variables and comparison:"
      ]
    },
    {
      "cell_type": "markdown",
      "metadata": {
        "id": "lXcjEzluxNse"
      },
      "source": [
        "Last fall, my friend from Rhode Island and I had an argument and we need you to settle it: \n",
        "\n",
        "The number of Covid-19 reported cases in Massachusetts (MA) was 121,546, as of September 3, 2020, and the number of Covid-19 reported cases in Rhode Island (RI) was 22,143 at that time.\n",
        "\n",
        "My friend claimed that Massachusetts had more Covid-19 cases per 100K population than Rhode Island, and I claimed otherwise. Who was right?\n",
        "\n",
        "Take the population of MA as 6,892,503 and the population of Rhode Island as 1,059,361 (est. July 1, 2019, source: Wikipedia/Census.gov).\n",
        "\n",
        "* Show all your coding work. \n",
        "* Write comments where you think is necessary. \n",
        "* Write a print statement **with text** reporting the outcome of the comparison. \n",
        "* Also write a print statement **with text** reporting the difference between the cases per 100K population for these two states.\n",
        "* Make sure to report the cases per 100K in integer, but round it up or down as mathematically necessary. (Hint: try `round()`)  "
      ]
    },
    {
      "cell_type": "markdown",
      "metadata": {
        "id": "oy11RGP770Vr"
      },
      "source": [
        "Among 100,000 people in Massachisetts, 1763 of them get Covid-19. Among 100,000 people in Rhode, 2090 of them get Covid-19. Therefore, the covid-19 pandemic is more serious in Rhode than in Massachisetts. "
      ]
    },
    {
      "cell_type": "code",
      "metadata": {
        "id": "1mNCRuBqEtqW",
        "colab": {
          "base_uri": "https://localhost:8080/"
        },
        "outputId": "f7e6a7ec-6dd5-48fc-926c-50fd19606860"
      },
      "source": [
        "### YOUR CODE HERE\n",
        "ma_pop = 6892503\n",
        "rhode_pop = 1059361\n",
        "ma_covid = 121546\n",
        "rhode_covid = 22143\n",
        "\n",
        "print(ma_covid/ma_pop*100000)\n",
        "print(rhode_covid/rhode_pop*100000)\n"
      ],
      "execution_count": null,
      "outputs": [
        {
          "output_type": "stream",
          "text": [
            "1763.4522611016637\n",
            "2090.222313262429\n"
          ],
          "name": "stdout"
        }
      ]
    },
    {
      "cell_type": "markdown",
      "metadata": {
        "id": "0B6Z4bHUzYed"
      },
      "source": [
        "##B. Lists and Strings\n",
        "\n",
        "This exercise assumes that you have the file `IMDB_reviews.csv` exactly where this notebook is saved in your local machine or your mounted google drive. Alternatively, you can use \"upload to session storage\" (first icon with up-arrow) under \"Files\" to upload the file to this session only. Read the commented lines below carefully after deciding where you would place the data file.\n",
        "\n",
        "Note that if you choose to upload it to your google drive, you will need to give the exact *path* to the file below in option 2. As an example, for me the path is /drive/MyDrive/BA765_Summer21/Assignments/IMDB_reviews.csv ; for you drive/MyDrive section will stay the same but the folder names need to be edited accordingly. For this option to work, you should also mount your drive (third icon under \"Files\").\n",
        "\n"
      ]
    },
    {
      "cell_type": "code",
      "metadata": {
        "id": "fIARUHtdubkP"
      },
      "source": [
        "# STARTER CODE - DO NOT DELETE!\n",
        "\n",
        "import csv\n",
        "# option 1:\n",
        "#if you upload the file to session storge, uncomment the following line:\n",
        "with open('IMDB_reviews.csv') as f:\n",
        "#option 2:\n",
        "#if you uplaod the file to your drive, edit and uncomment the following line:\n",
        "#with open('drive/MyDrive/edit here - your path to file/IMDB_reviews.csv') as f:\n",
        "    reader = csv.reader(f)\n",
        "    a1 = list(reader)\n",
        "#print(\"csv to list:\",a1)"
      ],
      "execution_count": 2,
      "outputs": []
    },
    {
      "cell_type": "markdown",
      "metadata": {
        "id": "Qvsw5268ATT0"
      },
      "source": [
        "### B1.\n",
        "Define a variable b1 which holds the datatype for the variable a1 created above\n"
      ]
    },
    {
      "cell_type": "code",
      "metadata": {
        "id": "mGjlt5tjugWF"
      },
      "source": [
        "### YOUR CODE HERE\n",
        "b1 = type(a1)"
      ],
      "execution_count": 3,
      "outputs": []
    },
    {
      "cell_type": "markdown",
      "metadata": {
        "id": "A0nB3AhGAgxd"
      },
      "source": [
        "### B2.\n",
        "Define a variable b2 which is the length of dataset a1. "
      ]
    },
    {
      "cell_type": "code",
      "metadata": {
        "id": "9frPUTeCA8R8",
        "colab": {
          "base_uri": "https://localhost:8080/"
        },
        "outputId": "2a392292-d5cc-4333-ef26-335f80a960ae"
      },
      "source": [
        "### YOUR CODE HERE\n",
        "b2 = len(a1)\n",
        "print(b2)"
      ],
      "execution_count": 4,
      "outputs": [
        {
          "output_type": "stream",
          "text": [
            "1116\n"
          ],
          "name": "stdout"
        }
      ]
    },
    {
      "cell_type": "markdown",
      "metadata": {
        "id": "9FoBLdc4A9n4"
      },
      "source": [
        "### B3.\n",
        "Remove the first element of a1.\n",
        "Verify that the dataset is now one element shorter than its original length."
      ]
    },
    {
      "cell_type": "code",
      "metadata": {
        "id": "kE9lgCmJBM4l",
        "colab": {
          "base_uri": "https://localhost:8080/"
        },
        "outputId": "78918ed0-8671-48c5-afd5-e8c5be2bddaa"
      },
      "source": [
        "### YOUR CODE HERE\n",
        "del a1[0]\n",
        "len(a1)\n"
      ],
      "execution_count": 7,
      "outputs": [
        {
          "output_type": "execute_result",
          "data": {
            "text/plain": [
              "1115"
            ]
          },
          "metadata": {
            "tags": []
          },
          "execution_count": 7
        }
      ]
    },
    {
      "cell_type": "markdown",
      "metadata": {
        "id": "RiZ8AD98BQkt"
      },
      "source": [
        "### B4.\n",
        "Define a variable called b4 which represents the first 10 entries of the newly modified object a1. (meaning, operate on a1 after removing the first element as instructed above)"
      ]
    },
    {
      "cell_type": "code",
      "metadata": {
        "id": "HflfHasYBmhf",
        "colab": {
          "base_uri": "https://localhost:8080/"
        },
        "outputId": "484422c3-2219-4409-fffa-4bde8bdca7e3"
      },
      "source": [
        "### YOUR CODE HERE\n",
        "b4 = a1[0:10]\n",
        "print(b4)\n",
        "print(len(b4))"
      ],
      "execution_count": 9,
      "outputs": [
        {
          "output_type": "stream",
          "text": [
            "[['review', 'sentiment'], [\"One of the other reviewers has mentioned that after watching just 1 Oz episode you'll be hooked. They are right, as this is exactly what happened with me.<br /><br />The first thing that struck me about Oz was its brutality and unflinching scenes of violence, which set in right from the word GO. Trust me, this is not a show for the faint hearted or timid. This show pulls no punches with regards to drugs, sex or violence. Its is hardcore, in the classic use of the word.<br /><br />It is called OZ as that is the nickname given to the Oswald Maximum Security State Penitentary. It focuses mainly on Emerald City, an experimental section of the prison where all the cells have glass fronts and face inwards, so privacy is not high on the agenda. Em City is home to many..Aryans, Muslims, gangstas, Latinos, Christians, Italians, Irish and more....so scuffles, death stares, dodgy dealings and shady agreements are never far away.<br /><br />I would say the main appeal of the show is due to the fact that it goes where other shows wouldn't dare. Forget pretty pictures painted for mainstream audiences, forget charm, forget romance...OZ doesn't mess around. The first episode I ever saw struck me as so nasty it was surreal, I couldn't say I was ready for it, but as I watched more, I developed a taste for Oz, and got accustomed to the high levels of graphic violence. Not just violence, but injustice (crooked guards who'll be sold out for a nickel, inmates who'll kill on order and get away with it, well mannered, middle class inmates being turned into prison bitches due to their lack of street skills or prison experience) Watching Oz, you may become comfortable with what is uncomfortable viewing....thats if you can get in touch with your darker side.\", 'positive'], ['A wonderful little production. <br /><br />The filming technique is very unassuming- very old-time-BBC fashion and gives a comforting, and sometimes discomforting, sense of realism to the entire piece. <br /><br />The actors are extremely well chosen- Michael Sheen not only \"has got all the polari\" but he has all the voices down pat too! You can truly see the seamless editing guided by the references to Williams\\' diary entries, not only is it well worth the watching but it is a terrificly written and performed piece. A masterful production about one of the great master\\'s of comedy and his life. <br /><br />The realism really comes home with the little things: the fantasy of the guard which, rather than use the traditional \\'dream\\' techniques remains solid then disappears. It plays on our knowledge and our senses, particularly with the scenes concerning Orton and Halliwell and the sets (particularly of their flat with Halliwell\\'s murals decorating every surface) are terribly well done.', 'positive'], ['I thought this was a wonderful way to spend time on a too hot summer weekend, sitting in the air conditioned theater and watching a light-hearted comedy. The plot is simplistic, but the dialogue is witty and the characters are likable (even the well bread suspected serial killer). While some may be disappointed when they realize this is not Match Point 2: Risk Addiction, I thought it was proof that Woody Allen is still fully in control of the style many of us have grown to love.<br /><br />This was the most I\\'d laughed at one of Woody\\'s comedies in years (dare I say a decade?). While I\\'ve never been impressed with Scarlet Johanson, in this she managed to tone down her \"sexy\" image and jumped right into a average, but spirited young woman.<br /><br />This may not be the crown jewel of his career, but it was wittier than \"Devil Wears Prada\" and more interesting than \"Superman\" a great comedy to go see with friends.', 'positive'], [\"Basically there's a family where a little boy (Jake) thinks there's a zombie in his closet & his parents are fighting all the time.<br /><br />This movie is slower than a soap opera... and suddenly, Jake decides to become Rambo and kill the zombie.<br /><br />OK, first of all when you're going to make a film you must Decide if its a thriller or a drama! As a drama the movie is watchable. Parents are divorcing & arguing like in real life. And then we have Jake with his closet which totally ruins all the film! I expected to see a BOOGEYMAN similar movie, and instead i watched a drama with some meaningless thriller spots.<br /><br />3 out of 10 just for the well playing parents & descent dialogs. As for the shots with Jake: just ignore them.\", 'negative'], ['Petter Mattei\\'s \"Love in the Time of Money\" is a visually stunning film to watch. Mr. Mattei offers us a vivid portrait about human relations. This is a movie that seems to be telling us what money, power and success do to people in the different situations we encounter. <br /><br />This being a variation on the Arthur Schnitzler\\'s play about the same theme, the director transfers the action to the present time New York where all these different characters meet and connect. Each one is connected in one way, or another to the next person, but no one seems to know the previous point of contact. Stylishly, the film has a sophisticated luxurious look. We are taken to see how these people live and the world they live in their own habitat.<br /><br />The only thing one gets out of all these souls in the picture is the different stages of loneliness each one inhabits. A big city is not exactly the best place in which human relations find sincere fulfillment, as one discerns is the case with most of the people we encounter.<br /><br />The acting is good under Mr. Mattei\\'s direction. Steve Buscemi, Rosario Dawson, Carol Kane, Michael Imperioli, Adrian Grenier, and the rest of the talented cast, make these characters come alive.<br /><br />We wish Mr. Mattei good luck and await anxiously for his next work.', 'positive'], ['Probably my all-time favorite movie, a story of selflessness, sacrifice and dedication to a noble cause, but it\\'s not preachy or boring. It just never gets old, despite my having seen it some 15 or more times in the last 25 years. Paul Lukas\\' performance brings tears to my eyes, and Bette Davis, in one of her very few truly sympathetic roles, is a delight. The kids are, as grandma says, more like \"dressed-up midgets\" than children, but that only makes them more fun to watch. And the mother\\'s slow awakening to what\\'s happening in the world and under her own roof is believable and startling. If I had a dozen thumbs, they\\'d all be \"up\" for this movie.', 'positive'], [\"I sure would like to see a resurrection of a up dated Seahunt series with the tech they have today it would bring back the kid excitement in me.I grew up on black and white TV and Seahunt with Gunsmoke were my hero's every week.You have my vote for a comeback of a new sea hunt.We need a change of pace in TV and this would work for a world of under water adventure.Oh by the way thank you for an outlet like this to view many viewpoints about TV and the many movies.So any ole way I believe I've got what I wanna say.Would be nice to read some more plus points about sea hunt.If my rhymes would be 10 lines would you let me submit,or leave me out to be in doubt and have me to quit,If this is so then I must go so lets do it.\", 'positive'], [\"This show was an amazing, fresh & innovative idea in the 70's when it first aired. The first 7 or 8 years were brilliant, but things dropped off after that. By 1990, the show was not really funny anymore, and it's continued its decline further to the complete waste of time it is today.<br /><br />It's truly disgraceful how far this show has fallen. The writing is painfully bad, the performances are almost as bad - if not for the mildly entertaining respite of the guest-hosts, this show probably wouldn't still be on the air. I find it so hard to believe that the same creator that hand-selected the original cast also chose the band of hacks that followed. How can one recognize such brilliance and then see fit to replace it with such mediocrity? I felt I must give 2 stars out of respect for the original cast that made this show such a huge success. As it is now, the show is just awful. I can't believe it's still on the air.\", 'negative'], [\"Encouraged by the positive comments about this film on here I was looking forward to watching this film. Bad mistake. I've seen 950+ films and this is truly one of the worst of them - it's awful in almost every way: editing, pacing, storyline, 'acting,' soundtrack (the film's only song - a lame country tune - is played no less than four times). The film looks cheap and nasty and is boring in the extreme. Rarely have I been so happy to see the end credits of a film. <br /><br />The only thing that prevents me giving this a 1-score is Harvey Keitel - while this is far from his best performance he at least seems to be making a bit of an effort. One for Keitel obsessives only.\", 'negative']]\n",
            "10\n"
          ],
          "name": "stdout"
        }
      ]
    },
    {
      "cell_type": "markdown",
      "metadata": {
        "id": "1dsRIAUABnQ_"
      },
      "source": [
        "###B5.\n",
        "Define a variable b5 which represents the one entry  before the last one in b4. What is the datatype of b5? What is the length of b5?"
      ]
    },
    {
      "cell_type": "code",
      "metadata": {
        "id": "erW76zNaCQWF",
        "colab": {
          "base_uri": "https://localhost:8080/"
        },
        "outputId": "ccbb530b-0c10-4356-e696-4397acf4be02"
      },
      "source": [
        "### YOUR CODE HERE\n",
        "b5 = b4[-2]\n",
        "print(len(b5))\n",
        "print(b5)\n",
        "\n"
      ],
      "execution_count": 34,
      "outputs": [
        {
          "output_type": "stream",
          "text": [
            "2\n",
            "[\"This show was an amazing, fresh & innovative idea in the 70's when it first aired. The first 7 or 8 years were brilliant, but things dropped off after that. By 1990, the show was not really funny anymore, and it's continued its decline further to the complete waste of time it is today.<br /><br />It's truly disgraceful how far this show has fallen. The writing is painfully bad, the performances are almost as bad - if not for the mildly entertaining respite of the guest-hosts, this show probably wouldn't still be on the air. I find it so hard to believe that the same creator that hand-selected the original cast also chose the band of hacks that followed. How can one recognize such brilliance and then see fit to replace it with such mediocrity? I felt I must give 2 stars out of respect for the original cast that made this show such a huge success. As it is now, the show is just awful. I can't believe it's still on the air.\", 'negative']\n"
          ],
          "name": "stdout"
        }
      ]
    },
    {
      "cell_type": "markdown",
      "metadata": {
        "id": "7C1flRdkCRiy"
      },
      "source": [
        "###B6.\n",
        "Define as many variables as elements of b5, with variable names as b5_x where x stands for the *index* of the elements, e.g. b5_0 should be name of the variable that hosts the first element. Determine type of each element b5_x."
      ]
    },
    {
      "cell_type": "code",
      "metadata": {
        "id": "eM1tjZpKCRBf",
        "colab": {
          "base_uri": "https://localhost:8080/"
        },
        "outputId": "29c61dba-0338-4d44-fa28-f1db49ca8efb"
      },
      "source": [
        "### YOUR CODE HERE\n",
        "b5_0 = b5[0]\n",
        "b5_1 = b5[1]\n",
        "\n",
        "print(len(b5_0))\n",
        "type(b5_0)\n"
      ],
      "execution_count": 32,
      "outputs": [
        {
          "output_type": "stream",
          "text": [
            "934\n"
          ],
          "name": "stdout"
        },
        {
          "output_type": "execute_result",
          "data": {
            "text/plain": [
              "str"
            ]
          },
          "metadata": {
            "tags": []
          },
          "execution_count": 32
        }
      ]
    },
    {
      "cell_type": "markdown",
      "metadata": {
        "id": "id7vnEPDClA4"
      },
      "source": [
        "### B7\n",
        "Bring b5_0 to all lower case. Count the occurance of single quotes in it using python. Print out your result with text.\n",
        "Then, tokenize b5_0 and save this work as b7. Tokenization is to split a sentence into individual words by whitespace. What is the type of b7? What is the length of b7?"
      ]
    },
    {
      "cell_type": "code",
      "metadata": {
        "id": "uZNS0zHHDDH8",
        "colab": {
          "base_uri": "https://localhost:8080/"
        },
        "outputId": "0102cd57-3c7c-4e64-e681-71a7ca071a1e"
      },
      "source": [
        "### YOUR CODE HERE\n",
        "print(b5_0.lower())\n",
        "\n",
        "print(b5_0.count(''))      #count how many spaces in b5_0\n",
        "\n",
        "b7 = b5_0.split(' ') #tokenize b5_0\n",
        "print(b7)\n",
        "len(b7)"
      ],
      "execution_count": 35,
      "outputs": [
        {
          "output_type": "stream",
          "text": [
            "this show was an amazing, fresh & innovative idea in the 70's when it first aired. the first 7 or 8 years were brilliant, but things dropped off after that. by 1990, the show was not really funny anymore, and it's continued its decline further to the complete waste of time it is today.<br /><br />it's truly disgraceful how far this show has fallen. the writing is painfully bad, the performances are almost as bad - if not for the mildly entertaining respite of the guest-hosts, this show probably wouldn't still be on the air. i find it so hard to believe that the same creator that hand-selected the original cast also chose the band of hacks that followed. how can one recognize such brilliance and then see fit to replace it with such mediocrity? i felt i must give 2 stars out of respect for the original cast that made this show such a huge success. as it is now, the show is just awful. i can't believe it's still on the air.\n",
            "935\n",
            "['This', 'show', 'was', 'an', 'amazing,', 'fresh', '&', 'innovative', 'idea', 'in', 'the', \"70's\", 'when', 'it', 'first', 'aired.', 'The', 'first', '7', 'or', '8', 'years', 'were', 'brilliant,', 'but', 'things', 'dropped', 'off', 'after', 'that.', 'By', '1990,', 'the', 'show', 'was', 'not', 'really', 'funny', 'anymore,', 'and', \"it's\", 'continued', 'its', 'decline', 'further', 'to', 'the', 'complete', 'waste', 'of', 'time', 'it', 'is', 'today.<br', '/><br', \"/>It's\", 'truly', 'disgraceful', 'how', 'far', 'this', 'show', 'has', 'fallen.', 'The', 'writing', 'is', 'painfully', 'bad,', 'the', 'performances', 'are', 'almost', 'as', 'bad', '-', 'if', 'not', 'for', 'the', 'mildly', 'entertaining', 'respite', 'of', 'the', 'guest-hosts,', 'this', 'show', 'probably', \"wouldn't\", 'still', 'be', 'on', 'the', 'air.', 'I', 'find', 'it', 'so', 'hard', 'to', 'believe', 'that', 'the', 'same', 'creator', 'that', 'hand-selected', 'the', 'original', 'cast', 'also', 'chose', 'the', 'band', 'of', 'hacks', 'that', 'followed.', 'How', 'can', 'one', 'recognize', 'such', 'brilliance', 'and', 'then', 'see', 'fit', 'to', 'replace', 'it', 'with', 'such', 'mediocrity?', 'I', 'felt', 'I', 'must', 'give', '2', 'stars', 'out', 'of', 'respect', 'for', 'the', 'original', 'cast', 'that', 'made', 'this', 'show', 'such', 'a', 'huge', 'success.', 'As', 'it', 'is', 'now,', 'the', 'show', 'is', 'just', 'awful.', 'I', \"can't\", 'believe', \"it's\", 'still', 'on', 'the', 'air.']\n"
          ],
          "name": "stdout"
        },
        {
          "output_type": "execute_result",
          "data": {
            "text/plain": [
              "174"
            ]
          },
          "metadata": {
            "tags": []
          },
          "execution_count": 35
        }
      ]
    },
    {
      "cell_type": "code",
      "metadata": {
        "id": "g2fiukG8H8lV"
      },
      "source": [
        "### YOUR CODE HERE"
      ],
      "execution_count": null,
      "outputs": []
    },
    {
      "cell_type": "markdown",
      "metadata": {
        "id": "1bGc6ppMDFcE"
      },
      "source": [
        "###B8\n",
        "Make a tuple with the following elements, in this order\n",
        "\n",
        "*  your BU email\n",
        "*  how many prior python courses you had, as a float\n",
        "*  a boolean for whether you have had prior experience with the language R\n",
        "*  a list representing the bash commands for 1)copying files from one directory to another 2)changing directories 3) removing files"
      ]
    },
    {
      "cell_type": "code",
      "metadata": {
        "id": "LcAX0W5MD5FU",
        "colab": {
          "base_uri": "https://localhost:8080/"
        },
        "outputId": "85a077d0-2b80-4415-ffa0-560005ef4a2f"
      },
      "source": [
        "### YOUR WORK HERE\n",
        "a = \"mliu926@bu.edu\"\n",
        "b = 1.0\n",
        "c = True\n",
        "d = [\"cp\", \"update\", \":qw\"]\n",
        "tup = (a,b,c,d)\n",
        "print(tup)\n",
        "type(tup)\n"
      ],
      "execution_count": 45,
      "outputs": [
        {
          "output_type": "stream",
          "text": [
            "('mliu926@bu.edu', 1.0, True, ['cp', 'update', ':qw'])\n"
          ],
          "name": "stdout"
        },
        {
          "output_type": "execute_result",
          "data": {
            "text/plain": [
              "tuple"
            ]
          },
          "metadata": {
            "tags": []
          },
          "execution_count": 45
        }
      ]
    },
    {
      "cell_type": "markdown",
      "metadata": {
        "id": "CZtup2zmISHG"
      },
      "source": [
        "### B9\n",
        "The longest word in Shakespeare's works is \"Honorificabilitudinitatibus\". Define a variable called my_current_state that holds this word as a string. \n",
        "\n",
        "Can you write a single command that would use this variable and print out the word \"sititicin\"? (Hint: think of the reverse order access we saw in class)\n"
      ]
    },
    {
      "cell_type": "code",
      "metadata": {
        "id": "nzH4qiAuI7IN",
        "colab": {
          "base_uri": "https://localhost:8080/",
          "height": 35
        },
        "outputId": "ee1df4b3-26ac-4f37-c851-f833e4988a52"
      },
      "source": [
        "### YOUR CODE HERE\n",
        "my_current_state = \"Honorificabilitudinitatibus\"\n",
        "my_current_state[-1] + my_current_state[-4] + my_current_state[-5] + my_current_state[-4] + my_current_state[-5] + my_current_state[-4] + my_current_state[-19] + my_current_state[-4] + my_current_state[-9]\n"
      ],
      "execution_count": 43,
      "outputs": [
        {
          "output_type": "execute_result",
          "data": {
            "application/vnd.google.colaboratory.intrinsic+json": {
              "type": "string"
            },
            "text/plain": [
              "'sititicin'"
            ]
          },
          "metadata": {
            "tags": []
          },
          "execution_count": 43
        }
      ]
    },
    {
      "cell_type": "markdown",
      "metadata": {
        "id": "UdlSfAkmD7rc"
      },
      "source": [
        "#### Great job - you are done! \n",
        "Remember to push this notebook to your repo! "
      ]
    },
    {
      "cell_type": "code",
      "metadata": {
        "id": "ZpWb05SWp64Y",
        "colab": {
          "base_uri": "https://localhost:8080/",
          "height": 202
        },
        "outputId": "d4e514ac-218a-4ebb-993e-4f8bcd5ca942"
      },
      "source": [
        "# FOR AUTOGRADING - DO NOT DELETE\n",
        "import tests\n",
        "tests.test_1()"
      ],
      "execution_count": 44,
      "outputs": [
        {
          "output_type": "error",
          "ename": "AttributeError",
          "evalue": "ignored",
          "traceback": [
            "\u001b[0;31m---------------------------------------------------------------------------\u001b[0m",
            "\u001b[0;31mAttributeError\u001b[0m                            Traceback (most recent call last)",
            "\u001b[0;32m<ipython-input-44-d5f4ce59e4ef>\u001b[0m in \u001b[0;36m<module>\u001b[0;34m()\u001b[0m\n\u001b[1;32m      1\u001b[0m \u001b[0;31m# FOR AUTOGRADING - DO NOT DELETE\u001b[0m\u001b[0;34m\u001b[0m\u001b[0;34m\u001b[0m\u001b[0;34m\u001b[0m\u001b[0m\n\u001b[1;32m      2\u001b[0m \u001b[0;32mimport\u001b[0m \u001b[0mtests\u001b[0m\u001b[0;34m\u001b[0m\u001b[0;34m\u001b[0m\u001b[0m\n\u001b[0;32m----> 3\u001b[0;31m \u001b[0mtests\u001b[0m\u001b[0;34m.\u001b[0m\u001b[0mtest_1\u001b[0m\u001b[0;34m(\u001b[0m\u001b[0;34m)\u001b[0m\u001b[0;34m\u001b[0m\u001b[0;34m\u001b[0m\u001b[0m\n\u001b[0m",
            "\u001b[0;31mAttributeError\u001b[0m: module 'tests' has no attribute 'test_1'"
          ]
        }
      ]
    }
  ]
}